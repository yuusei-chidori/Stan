{
 "cells": [
  {
   "cell_type": "code",
   "execution_count": 86,
   "metadata": {},
   "outputs": [
    {
     "name": "stdout",
     "output_type": "stream",
     "text": [
      "---Data head---\n"
     ]
    },
    {
     "data": {
      "text/html": [
       "<div>\n",
       "<style scoped>\n",
       "    .dataframe tbody tr th:only-of-type {\n",
       "        vertical-align: middle;\n",
       "    }\n",
       "\n",
       "    .dataframe tbody tr th {\n",
       "        vertical-align: top;\n",
       "    }\n",
       "\n",
       "    .dataframe thead th {\n",
       "        text-align: right;\n",
       "    }\n",
       "</style>\n",
       "<table border=\"1\" class=\"dataframe\">\n",
       "  <thead>\n",
       "    <tr style=\"text-align: right;\">\n",
       "      <th></th>\n",
       "      <th>Number</th>\n",
       "      <th>age</th>\n",
       "      <th>b-press</th>\n",
       "      <th>lang</th>\n",
       "      <th>sex</th>\n",
       "      <th>ill_flg</th>\n",
       "      <th>weight</th>\n",
       "    </tr>\n",
       "  </thead>\n",
       "  <tbody>\n",
       "    <tr>\n",
       "      <th>0</th>\n",
       "      <td>1</td>\n",
       "      <td>22</td>\n",
       "      <td>110</td>\n",
       "      <td>4300</td>\n",
       "      <td>1</td>\n",
       "      <td>1</td>\n",
       "      <td>79</td>\n",
       "    </tr>\n",
       "    <tr>\n",
       "      <th>1</th>\n",
       "      <td>2</td>\n",
       "      <td>23</td>\n",
       "      <td>128</td>\n",
       "      <td>4500</td>\n",
       "      <td>1</td>\n",
       "      <td>1</td>\n",
       "      <td>65</td>\n",
       "    </tr>\n",
       "    <tr>\n",
       "      <th>2</th>\n",
       "      <td>3</td>\n",
       "      <td>24</td>\n",
       "      <td>104</td>\n",
       "      <td>3900</td>\n",
       "      <td>2</td>\n",
       "      <td>0</td>\n",
       "      <td>53</td>\n",
       "    </tr>\n",
       "    <tr>\n",
       "      <th>3</th>\n",
       "      <td>4</td>\n",
       "      <td>25</td>\n",
       "      <td>112</td>\n",
       "      <td>3000</td>\n",
       "      <td>2</td>\n",
       "      <td>0</td>\n",
       "      <td>45</td>\n",
       "    </tr>\n",
       "    <tr>\n",
       "      <th>4</th>\n",
       "      <td>5</td>\n",
       "      <td>27</td>\n",
       "      <td>108</td>\n",
       "      <td>4800</td>\n",
       "      <td>1</td>\n",
       "      <td>0</td>\n",
       "      <td>80</td>\n",
       "    </tr>\n",
       "  </tbody>\n",
       "</table>\n",
       "</div>"
      ],
      "text/plain": [
       "   Number  age  b-press  lang  sex  ill_flg  weight\n",
       "0       1   22      110  4300    1        1      79\n",
       "1       2   23      128  4500    1        1      65\n",
       "2       3   24      104  3900    2        0      53\n",
       "3       4   25      112  3000    2        0      45\n",
       "4       5   27      108  4800    1        0      80"
      ]
     },
     "execution_count": 86,
     "metadata": {},
     "output_type": "execute_result"
    }
   ],
   "source": [
    "#!/usr/bin/env python\n",
    "# -*- coding: utf-8 -*-\n",
    "# sklearnを用いた線形回帰とStanでのベイズ推定によるパラメーター推定を比較\n",
    "# データセットの読み込み\n",
    "# matplotlib をインラインモードにしておくこと\n",
    "\n",
    "import os\n",
    "import scipy as sp\n",
    "import pandas as pd\n",
    "import numpy as np\n",
    "import sklearn as skln\n",
    "from sklearn import linear_model\n",
    "import statsmodels\n",
    "import statsmodels.api as sm\n",
    "import statsmodels.formula.api as smf\n",
    "import matplotlib.pyplot as plt\n",
    "%matplotlib inline\n",
    "\n",
    "def dscale(x, axis = None):\n",
    "    xmean = x.mean(axis=axis, keepdims=True)\n",
    "    xstd  = np.std(x, axis=axis, keepdims=True)\n",
    "    stnd = (x-xmean)/xstd\n",
    "    return stnd\n",
    "\n",
    "data = pd.read_csv('sample-data.csv')\n",
    "print('---Data head---')\n",
    "data.head()\n"
   ]
  },
  {
   "cell_type": "code",
   "execution_count": 60,
   "metadata": {},
   "outputs": [],
   "source": [
    "# dataの詳細を見る"
   ]
  },
  {
   "cell_type": "code",
   "execution_count": 87,
   "metadata": {},
   "outputs": [
    {
     "data": {
      "text/html": [
       "<div>\n",
       "<style scoped>\n",
       "    .dataframe tbody tr th:only-of-type {\n",
       "        vertical-align: middle;\n",
       "    }\n",
       "\n",
       "    .dataframe tbody tr th {\n",
       "        vertical-align: top;\n",
       "    }\n",
       "\n",
       "    .dataframe thead th {\n",
       "        text-align: right;\n",
       "    }\n",
       "</style>\n",
       "<table border=\"1\" class=\"dataframe\">\n",
       "  <thead>\n",
       "    <tr style=\"text-align: right;\">\n",
       "      <th></th>\n",
       "      <th>Number</th>\n",
       "      <th>age</th>\n",
       "      <th>b-press</th>\n",
       "      <th>lang</th>\n",
       "      <th>sex</th>\n",
       "      <th>ill_flg</th>\n",
       "      <th>weight</th>\n",
       "    </tr>\n",
       "  </thead>\n",
       "  <tbody>\n",
       "    <tr>\n",
       "      <th>count</th>\n",
       "      <td>30.000000</td>\n",
       "      <td>30.000000</td>\n",
       "      <td>30.000000</td>\n",
       "      <td>30.000000</td>\n",
       "      <td>30.000000</td>\n",
       "      <td>30.000000</td>\n",
       "      <td>30.000000</td>\n",
       "    </tr>\n",
       "    <tr>\n",
       "      <th>mean</th>\n",
       "      <td>15.500000</td>\n",
       "      <td>38.033333</td>\n",
       "      <td>124.700000</td>\n",
       "      <td>3539.666667</td>\n",
       "      <td>1.500000</td>\n",
       "      <td>0.600000</td>\n",
       "      <td>57.800000</td>\n",
       "    </tr>\n",
       "    <tr>\n",
       "      <th>std</th>\n",
       "      <td>8.803408</td>\n",
       "      <td>12.047273</td>\n",
       "      <td>12.771601</td>\n",
       "      <td>623.120530</td>\n",
       "      <td>0.508548</td>\n",
       "      <td>0.498273</td>\n",
       "      <td>13.978802</td>\n",
       "    </tr>\n",
       "    <tr>\n",
       "      <th>min</th>\n",
       "      <td>1.000000</td>\n",
       "      <td>22.000000</td>\n",
       "      <td>104.000000</td>\n",
       "      <td>2350.000000</td>\n",
       "      <td>1.000000</td>\n",
       "      <td>0.000000</td>\n",
       "      <td>39.000000</td>\n",
       "    </tr>\n",
       "    <tr>\n",
       "      <th>25%</th>\n",
       "      <td>8.250000</td>\n",
       "      <td>29.250000</td>\n",
       "      <td>116.000000</td>\n",
       "      <td>3025.000000</td>\n",
       "      <td>1.000000</td>\n",
       "      <td>0.000000</td>\n",
       "      <td>47.250000</td>\n",
       "    </tr>\n",
       "    <tr>\n",
       "      <th>50%</th>\n",
       "      <td>15.500000</td>\n",
       "      <td>35.000000</td>\n",
       "      <td>125.500000</td>\n",
       "      <td>3535.000000</td>\n",
       "      <td>1.500000</td>\n",
       "      <td>1.000000</td>\n",
       "      <td>55.000000</td>\n",
       "    </tr>\n",
       "    <tr>\n",
       "      <th>75%</th>\n",
       "      <td>22.750000</td>\n",
       "      <td>45.000000</td>\n",
       "      <td>131.500000</td>\n",
       "      <td>3937.500000</td>\n",
       "      <td>2.000000</td>\n",
       "      <td>1.000000</td>\n",
       "      <td>65.000000</td>\n",
       "    </tr>\n",
       "    <tr>\n",
       "      <th>max</th>\n",
       "      <td>30.000000</td>\n",
       "      <td>65.000000</td>\n",
       "      <td>156.000000</td>\n",
       "      <td>4800.000000</td>\n",
       "      <td>2.000000</td>\n",
       "      <td>1.000000</td>\n",
       "      <td>90.000000</td>\n",
       "    </tr>\n",
       "  </tbody>\n",
       "</table>\n",
       "</div>"
      ],
      "text/plain": [
       "          Number        age     b-press         lang        sex    ill_flg  \\\n",
       "count  30.000000  30.000000   30.000000    30.000000  30.000000  30.000000   \n",
       "mean   15.500000  38.033333  124.700000  3539.666667   1.500000   0.600000   \n",
       "std     8.803408  12.047273   12.771601   623.120530   0.508548   0.498273   \n",
       "min     1.000000  22.000000  104.000000  2350.000000   1.000000   0.000000   \n",
       "25%     8.250000  29.250000  116.000000  3025.000000   1.000000   0.000000   \n",
       "50%    15.500000  35.000000  125.500000  3535.000000   1.500000   1.000000   \n",
       "75%    22.750000  45.000000  131.500000  3937.500000   2.000000   1.000000   \n",
       "max    30.000000  65.000000  156.000000  4800.000000   2.000000   1.000000   \n",
       "\n",
       "          weight  \n",
       "count  30.000000  \n",
       "mean   57.800000  \n",
       "std    13.978802  \n",
       "min    39.000000  \n",
       "25%    47.250000  \n",
       "50%    55.000000  \n",
       "75%    65.000000  \n",
       "max    90.000000  "
      ]
     },
     "execution_count": 87,
     "metadata": {},
     "output_type": "execute_result"
    }
   ],
   "source": [
    "data.describe()"
   ]
  },
  {
   "cell_type": "code",
   "execution_count": 88,
   "metadata": {},
   "outputs": [
    {
     "data": {
      "text/plain": [
       "str"
      ]
     },
     "execution_count": 88,
     "metadata": {},
     "output_type": "execute_result"
    }
   ],
   "source": [
    "data['ill_flg'] = data['ill_flg'].astype('str')\n",
    "type(data.loc[1,'ill_flg'])"
   ]
  },
  {
   "cell_type": "code",
   "execution_count": 89,
   "metadata": {},
   "outputs": [
    {
     "name": "stdout",
     "output_type": "stream",
     "text": [
      "                            OLS Regression Results                            \n",
      "==============================================================================\n",
      "Dep. Variable:                 weight   R-squared:                       0.597\n",
      "Model:                            OLS   Adj. R-squared:                  0.582\n",
      "Method:                 Least Squares   F-statistic:                     41.41\n",
      "Date:                Sun, 06 May 2018   Prob (F-statistic):           5.73e-07\n",
      "Time:                        23:06:02   Log-Likelihood:                -107.57\n",
      "No. Observations:                  30   AIC:                             219.1\n",
      "Df Residuals:                      28   BIC:                             221.9\n",
      "Df Model:                           1                                         \n",
      "Covariance Type:            nonrobust                                         \n",
      "==============================================================================\n",
      "                 coef    std err          t      P>|t|      [0.025      0.975]\n",
      "------------------------------------------------------------------------------\n",
      "Intercept     -3.5332      9.673     -0.365      0.718     -23.348      16.281\n",
      "lang           0.0173      0.003      6.435      0.000       0.012       0.023\n",
      "==============================================================================\n",
      "Omnibus:                        0.422   Durbin-Watson:                   1.198\n",
      "Prob(Omnibus):                  0.810   Jarque-Bera (JB):                0.083\n",
      "Skew:                           0.128   Prob(JB):                        0.959\n",
      "Kurtosis:                       3.032   Cond. No.                     2.11e+04\n",
      "==============================================================================\n",
      "\n",
      "Warnings:\n",
      "[1] Standard Errors assume that the covariance matrix of the errors is correctly specified.\n",
      "[2] The condition number is large, 2.11e+04. This might indicate that there are\n",
      "strong multicollinearity or other numerical problems.\n"
     ]
    }
   ],
   "source": [
    "lm = linear_model.LinearRegression()\n",
    "\n",
    "# x is lang\n",
    "x = data.loc[:, ['lang']].as_matrix()\n",
    "\n",
    "# y is weight \n",
    "y = data['weight'].as_matrix()\n",
    "\n",
    "# making forecast\n",
    "lm = smf.ols('weight ~ lang', data = data).fit()\n",
    "\n",
    "print(lm.summary())"
   ]
  },
  {
   "cell_type": "code",
   "execution_count": 63,
   "metadata": {},
   "outputs": [
    {
     "data": {
      "text/plain": [
       "[<matplotlib.lines.Line2D at 0x1c181ddbe0>]"
      ]
     },
     "execution_count": 63,
     "metadata": {},
     "output_type": "execute_result"
    },
    {
     "data": {
      "image/png": "[encoded data removed]",
      "text/plain": [
       "<matplotlib.figure.Figure at 0x1c181dd5c0>"
      ]
     },
     "metadata": {},
     "output_type": "display_data"
    }
   ],
   "source": [
    "# data visualization with matplotlib\n",
    "# Scatter plot\n",
    "\n",
    "plt.scatter(x, y)\n",
    "\n",
    "# regression line\n",
    "plt.plot(x, lm.predict(data.loc[:,'lang']))\n",
    "    # It seems that there is both of them are correlated"
   ]
  },
  {
   "cell_type": "code",
   "execution_count": 90,
   "metadata": {},
   "outputs": [
    {
     "name": "stdout",
     "output_type": "stream",
     "text": [
      "                            OLS Regression Results                            \n",
      "==============================================================================\n",
      "Dep. Variable:                 weight   R-squared:                       0.736\n",
      "Model:                            OLS   Adj. R-squared:                  0.717\n",
      "Method:                 Least Squares   F-statistic:                     37.66\n",
      "Date:                Sun, 06 May 2018   Prob (F-statistic):           1.54e-08\n",
      "Time:                        23:06:07   Log-Likelihood:                -101.20\n",
      "No. Observations:                  30   AIC:                             208.4\n",
      "Df Residuals:                      27   BIC:                             212.6\n",
      "Df Model:                           2                                         \n",
      "Covariance Type:            nonrobust                                         \n",
      "==============================================================================\n",
      "                 coef    std err          t      P>|t|      [0.025      0.975]\n",
      "------------------------------------------------------------------------------\n",
      "Intercept    -47.7589     14.157     -3.373      0.002     -76.807     -18.711\n",
      "lang           0.0239      0.003      8.480      0.000       0.018       0.030\n",
      "age            0.5509      0.146      3.779      0.001       0.252       0.850\n",
      "==============================================================================\n",
      "Omnibus:                        0.949   Durbin-Watson:                   1.508\n",
      "Prob(Omnibus):                  0.622   Jarque-Bera (JB):                0.450\n",
      "Skew:                           0.299   Prob(JB):                        0.798\n",
      "Kurtosis:                       3.059   Cond. No.                     3.74e+04\n",
      "==============================================================================\n",
      "\n",
      "Warnings:\n",
      "[1] Standard Errors assume that the covariance matrix of the errors is correctly specified.\n",
      "[2] The condition number is large, 3.74e+04. This might indicate that there are\n",
      "strong multicollinearity or other numerical problems.\n"
     ]
    }
   ],
   "source": [
    "# making forecast\n",
    "mlm1 = smf.ols('weight ~ lang + age', data = data).fit()\n",
    "\n",
    "print(mlm1.summary())"
   ]
  },
  {
   "cell_type": "code",
   "execution_count": 91,
   "metadata": {},
   "outputs": [
    {
     "data": {
      "text/plain": [
       "<matplotlib.collections.PathCollection at 0x1c192d6358>"
      ]
     },
     "execution_count": 91,
     "metadata": {},
     "output_type": "execute_result"
    },
    {
     "data": {
      "image/png": "[encoded data removed]",
      "text/plain": [
       "<matplotlib.figure.Figure at 0x1c17eea0f0>"
      ]
     },
     "metadata": {},
     "output_type": "display_data"
    }
   ],
   "source": [
    "# data visualization with matplotlib\n",
    "# regression line\n",
    "plt.scatter(mlm1.predict(data.loc[:,['lang','age'] ]), y)\n",
    "    # It seems that there is both of them are correlated"
   ]
  },
  {
   "cell_type": "code",
   "execution_count": 92,
   "metadata": {},
   "outputs": [
    {
     "name": "stdout",
     "output_type": "stream",
     "text": [
      "                            OLS Regression Results                            \n",
      "==============================================================================\n",
      "Dep. Variable:                 weight   R-squared:                       0.828\n",
      "Model:                            OLS   Adj. R-squared:                  0.809\n",
      "Method:                 Least Squares   F-statistic:                     41.82\n",
      "Date:                Sun, 06 May 2018   Prob (F-statistic):           4.31e-10\n",
      "Time:                        23:06:09   Log-Likelihood:                -94.752\n",
      "No. Observations:                  30   AIC:                             197.5\n",
      "Df Residuals:                      26   BIC:                             203.1\n",
      "Df Model:                           3                                         \n",
      "Covariance Type:            nonrobust                                         \n",
      "==============================================================================\n",
      "                 coef    std err          t      P>|t|      [0.025      0.975]\n",
      "------------------------------------------------------------------------------\n",
      "Intercept      3.1488     17.916      0.176      0.862     -33.678      39.975\n",
      "lang           0.0168      0.003      5.630      0.000       0.011       0.023\n",
      "age            0.2959      0.138      2.145      0.041       0.012       0.579\n",
      "sex          -10.7962      2.889     -3.737      0.001     -16.735      -4.858\n",
      "==============================================================================\n",
      "Omnibus:                        4.035   Durbin-Watson:                   1.750\n",
      "Prob(Omnibus):                  0.133   Jarque-Bera (JB):                2.467\n",
      "Skew:                           0.573   Prob(JB):                        0.291\n",
      "Kurtosis:                       3.813   Cond. No.                     5.81e+04\n",
      "==============================================================================\n",
      "\n",
      "Warnings:\n",
      "[1] Standard Errors assume that the covariance matrix of the errors is correctly specified.\n",
      "[2] The condition number is large, 5.81e+04. This might indicate that there are\n",
      "strong multicollinearity or other numerical problems.\n"
     ]
    }
   ],
   "source": [
    "# making forecast\n",
    "mlm2 = smf.ols('weight ~ lang + age + sex', data = data).fit()\n",
    "\n",
    "print(mlm2.summary())"
   ]
  },
  {
   "cell_type": "code",
   "execution_count": 93,
   "metadata": {},
   "outputs": [
    {
     "data": {
      "text/plain": [
       "<matplotlib.collections.PathCollection at 0x1c1917cbe0>"
      ]
     },
     "execution_count": 93,
     "metadata": {},
     "output_type": "execute_result"
    },
    {
     "data": {
      "image/png": "[encoded data removed]",
      "text/plain": [
       "<matplotlib.figure.Figure at 0x1c1a9899e8>"
      ]
     },
     "metadata": {},
     "output_type": "display_data"
    }
   ],
   "source": [
    "# data visualization with matplotlib\n",
    "# regression line\n",
    "plt.scatter(mlm2.predict(data.loc[:,['lang','age', 'sex'] ]), y)\n",
    "    # It seems that there is both of them are correlated"
   ]
  },
  {
   "cell_type": "code",
   "execution_count": 94,
   "metadata": {},
   "outputs": [
    {
     "name": "stdout",
     "output_type": "stream",
     "text": [
      "                            OLS Regression Results                            \n",
      "==============================================================================\n",
      "Dep. Variable:                 weight   R-squared:                       0.830\n",
      "Model:                            OLS   Adj. R-squared:                  0.803\n",
      "Method:                 Least Squares   F-statistic:                     30.46\n",
      "Date:                Sun, 06 May 2018   Prob (F-statistic):           2.78e-09\n",
      "Time:                        23:06:15   Log-Likelihood:                -94.627\n",
      "No. Observations:                  30   AIC:                             199.3\n",
      "Df Residuals:                      25   BIC:                             206.3\n",
      "Df Model:                           4                                         \n",
      "Covariance Type:            nonrobust                                         \n",
      "================================================================================\n",
      "                   coef    std err          t      P>|t|      [0.025      0.975]\n",
      "--------------------------------------------------------------------------------\n",
      "Intercept        4.8977     18.594      0.263      0.794     -33.398      43.193\n",
      "ill_flg[T.1]     1.1728      2.570      0.456      0.652      -4.120       6.466\n",
      "lang             0.0163      0.003      5.032      0.000       0.010       0.023\n",
      "age              0.2797      0.144      1.937      0.064      -0.018       0.577\n",
      "sex            -10.7983      2.934     -3.680      0.001     -16.841      -4.756\n",
      "==============================================================================\n",
      "Omnibus:                        3.479   Durbin-Watson:                   1.748\n",
      "Prob(Omnibus):                  0.176   Jarque-Bera (JB):                2.003\n",
      "Skew:                           0.481   Prob(JB):                        0.367\n",
      "Kurtosis:                       3.824   Cond. No.                     5.93e+04\n",
      "==============================================================================\n",
      "\n",
      "Warnings:\n",
      "[1] Standard Errors assume that the covariance matrix of the errors is correctly specified.\n",
      "[2] The condition number is large, 5.93e+04. This might indicate that there are\n",
      "strong multicollinearity or other numerical problems.\n"
     ]
    }
   ],
   "source": [
    "# making forecast\n",
    "mlm3 = smf.ols('weight ~ lang + age + sex + ill_flg', data = data).fit()\n",
    "\n",
    "print(mlm3.summary())"
   ]
  },
  {
   "cell_type": "code",
   "execution_count": 95,
   "metadata": {},
   "outputs": [
    {
     "data": {
      "text/plain": [
       "<matplotlib.collections.PathCollection at 0x1c1855b128>"
      ]
     },
     "execution_count": 95,
     "metadata": {},
     "output_type": "execute_result"
    },
    {
     "data": {
      "image/png": "[encoded data removed]",
      "text/plain": [
       "<matplotlib.figure.Figure at 0x1c1ae2f1d0>"
      ]
     },
     "metadata": {},
     "output_type": "display_data"
    }
   ],
   "source": [
    "# data visualization with matplotlib\n",
    "# regression line\n",
    "plt.scatter(mlm2.predict(data.loc[:,['lang','age', 'sex', 'ill_flg'] ]), y)\n",
    "    # It seems that there is both of them are correlated"
   ]
  },
  {
   "cell_type": "code",
   "execution_count": 96,
   "metadata": {},
   "outputs": [],
   "source": [
    "# 病気の有無はあんまり効いてない？\n",
    "# 年齢の当てはまりも悪くなりそう\n"
   ]
  },
  {
   "cell_type": "code",
   "execution_count": 97,
   "metadata": {},
   "outputs": [
    {
     "data": {
      "text/plain": [
       "(array([ 2.,  1.,  1.,  1.,  2.,  2.,  1.,  2.,  1.,  1.,  3.,  1.,  1.,\n",
       "         1.,  1.,  4.,  1.,  1.,  1.,  2.]),\n",
       " array([  0. ,   1.2,   2.4,   3.6,   4.8,   6. ,   7.2,   8.4,   9.6,\n",
       "         10.8,  12. ,  13.2,  14.4,  15.6,  16.8,  18. ,  19.2,  20.4,\n",
       "         21.6,  22.8,  24. ]),\n",
       " <a list of 20 Patch objects>)"
      ]
     },
     "execution_count": 97,
     "metadata": {},
     "output_type": "execute_result"
    },
    {
     "data": {
      "image/png": "[encoded data removed]",
      "text/plain": [
       "<matplotlib.figure.Figure at 0x1c180644a8>"
      ]
     },
     "metadata": {},
     "output_type": "display_data"
    }
   ],
   "source": [
    "# check the distributions\n",
    "plt.hist(data.loc[:,['weight']],\n",
    "         bins = 20,\n",
    "         range = None,\n",
    "         normed = False,\n",
    "         cumulative = False)\n"
   ]
  },
  {
   "cell_type": "code",
   "execution_count": 98,
   "metadata": {},
   "outputs": [
    {
     "data": {
      "text/plain": [
       "(array([ 3.,  2.,  1.,  1.,  3.,  1.,  1.,  2.,  3.,  1.,  2.,  1.,  2.,\n",
       "         1.,  1.,  1.,  2.,  0.,  1.,  1.]),\n",
       " array([  0.  ,   1.25,   2.5 ,   3.75,   5.  ,   6.25,   7.5 ,   8.75,\n",
       "         10.  ,  11.25,  12.5 ,  13.75,  15.  ,  16.25,  17.5 ,  18.75,\n",
       "         20.  ,  21.25,  22.5 ,  23.75,  25.  ]),\n",
       " <a list of 20 Patch objects>)"
      ]
     },
     "execution_count": 98,
     "metadata": {},
     "output_type": "execute_result"
    },
    {
     "data": {
      "image/png": "[encoded data removed]",
      "text/plain": [
       "<matplotlib.figure.Figure at 0x1c1945a7f0>"
      ]
     },
     "metadata": {},
     "output_type": "display_data"
    }
   ],
   "source": [
    "# age\n",
    "plt.hist(data.loc[:,['age']],\n",
    "         bins = 20,\n",
    "         range = None,\n",
    "         normed = False,\n",
    "         cumulative = False)\n"
   ]
  },
  {
   "cell_type": "code",
   "execution_count": 99,
   "metadata": {},
   "outputs": [
    {
     "data": {
      "text/plain": [
       "(array([  0.,   0.,   0.,   0.,   0.,   0.,   0.,   0.,   0.,   0.,  30.,\n",
       "          0.,   0.,   0.,   0.,   0.,   0.,   0.,   0.,   0.]),\n",
       " array([-0.5 , -0.45, -0.4 , -0.35, -0.3 , -0.25, -0.2 , -0.15, -0.1 ,\n",
       "        -0.05,  0.  ,  0.05,  0.1 ,  0.15,  0.2 ,  0.25,  0.3 ,  0.35,\n",
       "         0.4 ,  0.45,  0.5 ]),\n",
       " <a list of 20 Patch objects>)"
      ]
     },
     "execution_count": 99,
     "metadata": {},
     "output_type": "execute_result"
    },
    {
     "data": {
      "image/png": "[encoded data removed]",
      "text/plain": [
       "<matplotlib.figure.Figure at 0x1c194e56a0>"
      ]
     },
     "metadata": {},
     "output_type": "display_data"
    }
   ],
   "source": [
    "# volatile acidity\n",
    "plt.hist(data.loc[:,['sex']],\n",
    "         bins = 20,\n",
    "         range = None,\n",
    "         normed = False,\n",
    "         cumulative = False)\n",
    "\n",
    "\n",
    "#['alcohol', 'volatile acidity', 'sulphates']"
   ]
  },
  {
   "cell_type": "code",
   "execution_count": 100,
   "metadata": {},
   "outputs": [
    {
     "data": {
      "text/plain": [
       "(array([ 12.,   0.,   0.,   0.,   0.,   0.,   0.,   0.,   0.,   0.,   0.,\n",
       "          0.,   0.,   0.,   0.,   0.,   0.,   0.,   0.,  18.]),\n",
       " array([ 0.  ,  0.05,  0.1 ,  0.15,  0.2 ,  0.25,  0.3 ,  0.35,  0.4 ,\n",
       "         0.45,  0.5 ,  0.55,  0.6 ,  0.65,  0.7 ,  0.75,  0.8 ,  0.85,\n",
       "         0.9 ,  0.95,  1.  ]),\n",
       " <a list of 20 Patch objects>)"
      ]
     },
     "execution_count": 100,
     "metadata": {},
     "output_type": "execute_result"
    },
    {
     "data": {
      "image/png": "[encoded data removed]",
      "text/plain": [
       "<matplotlib.figure.Figure at 0x1c1a2d1d68>"
      ]
     },
     "metadata": {},
     "output_type": "display_data"
    }
   ],
   "source": [
    "# sulphates\n",
    "plt.hist(data.loc[:,['ill_flg']],\n",
    "         bins = 20,\n",
    "         range = None,\n",
    "         normed = False,\n",
    "         cumulative = False)\n"
   ]
  },
  {
   "cell_type": "code",
   "execution_count": 101,
   "metadata": {},
   "outputs": [
    {
     "data": {
      "text/html": [
       "<div>\n",
       "<style scoped>\n",
       "    .dataframe tbody tr th:only-of-type {\n",
       "        vertical-align: middle;\n",
       "    }\n",
       "\n",
       "    .dataframe tbody tr th {\n",
       "        vertical-align: top;\n",
       "    }\n",
       "\n",
       "    .dataframe thead th {\n",
       "        text-align: right;\n",
       "    }\n",
       "</style>\n",
       "<table border=\"1\" class=\"dataframe\">\n",
       "  <thead>\n",
       "    <tr style=\"text-align: right;\">\n",
       "      <th></th>\n",
       "      <th>age</th>\n",
       "      <th>b-press</th>\n",
       "      <th>lang</th>\n",
       "    </tr>\n",
       "  </thead>\n",
       "  <tbody>\n",
       "    <tr>\n",
       "      <th>age</th>\n",
       "      <td>1.000000</td>\n",
       "      <td>0.646186</td>\n",
       "      <td>-0.617223</td>\n",
       "    </tr>\n",
       "    <tr>\n",
       "      <th>b-press</th>\n",
       "      <td>0.646186</td>\n",
       "      <td>1.000000</td>\n",
       "      <td>-0.485174</td>\n",
       "    </tr>\n",
       "    <tr>\n",
       "      <th>lang</th>\n",
       "      <td>-0.617223</td>\n",
       "      <td>-0.485174</td>\n",
       "      <td>1.000000</td>\n",
       "    </tr>\n",
       "  </tbody>\n",
       "</table>\n",
       "</div>"
      ],
      "text/plain": [
       "              age   b-press      lang\n",
       "age      1.000000  0.646186 -0.617223\n",
       "b-press  0.646186  1.000000 -0.485174\n",
       "lang    -0.617223 -0.485174  1.000000"
      ]
     },
     "execution_count": 101,
     "metadata": {},
     "output_type": "execute_result"
    }
   ],
   "source": [
    "# Correl's\n",
    "data.loc[:,['age', 'b-press', 'lang']].corr()"
   ]
  },
  {
   "cell_type": "code",
   "execution_count": 102,
   "metadata": {},
   "outputs": [
    {
     "name": "stdout",
     "output_type": "stream",
     "text": [
      "                            OLS Regression Results                            \n",
      "==============================================================================\n",
      "Dep. Variable:                 weight   R-squared:                       0.828\n",
      "Model:                            OLS   Adj. R-squared:                  0.809\n",
      "Method:                 Least Squares   F-statistic:                     41.82\n",
      "Date:                Sun, 06 May 2018   Prob (F-statistic):           4.31e-10\n",
      "Time:                        23:06:21   Log-Likelihood:                -94.752\n",
      "No. Observations:                  30   AIC:                             197.5\n",
      "Df Residuals:                      26   BIC:                             203.1\n",
      "Df Model:                           3                                         \n",
      "Covariance Type:            nonrobust                                         \n",
      "==============================================================================\n",
      "                 coef    std err          t      P>|t|      [0.025      0.975]\n",
      "------------------------------------------------------------------------------\n",
      "Intercept      3.1488     17.916      0.176      0.862     -33.678      39.975\n",
      "lang           0.0168      0.003      5.630      0.000       0.011       0.023\n",
      "age            0.2959      0.138      2.145      0.041       0.012       0.579\n",
      "sex          -10.7962      2.889     -3.737      0.001     -16.735      -4.858\n",
      "==============================================================================\n",
      "Omnibus:                        4.035   Durbin-Watson:                   1.750\n",
      "Prob(Omnibus):                  0.133   Jarque-Bera (JB):                2.467\n",
      "Skew:                           0.573   Prob(JB):                        0.291\n",
      "Kurtosis:                       3.813   Cond. No.                     5.81e+04\n",
      "==============================================================================\n",
      "\n",
      "Warnings:\n",
      "[1] Standard Errors assume that the covariance matrix of the errors is correctly specified.\n",
      "[2] The condition number is large, 5.81e+04. This might indicate that there are\n",
      "strong multicollinearity or other numerical problems.\n"
     ]
    }
   ],
   "source": [
    "# making forecast\n",
    "mlm = smf.ols('weight ~ lang + age + sex', data = data).fit()\n",
    "\n",
    "# lang とsex でやっていたが、バックドア基準を考慮し、ageを入れた\n",
    "print(mlm.summary())"
   ]
  },
  {
   "cell_type": "code",
   "execution_count": 103,
   "metadata": {},
   "outputs": [
    {
     "data": {
      "text/plain": [
       "<matplotlib.collections.PathCollection at 0x1c187b1d68>"
      ]
     },
     "execution_count": 103,
     "metadata": {},
     "output_type": "execute_result"
    },
    {
     "data": {
      "image/png": "[encoded data removed]",
      "text/plain": [
       "<matplotlib.figure.Figure at 0x1c1833b4e0>"
      ]
     },
     "metadata": {},
     "output_type": "display_data"
    }
   ],
   "source": [
    "# 出来を確認する\n",
    "plt.scatter(mlm.predict(data.loc[:,['lang','age', 'sex'] ]), y)"
   ]
  },
  {
   "cell_type": "code",
   "execution_count": 104,
   "metadata": {},
   "outputs": [],
   "source": [
    "# ここからStanを使う\n",
    "# 参考： http://www.currypurin.com/entry/pystan1\n",
    "import pystan"
   ]
  },
  {
   "cell_type": "code",
   "execution_count": 79,
   "metadata": {},
   "outputs": [
    {
     "name": "stderr",
     "output_type": "stream",
     "text": [
      "INFO:pystan:COMPILING THE C++ CODE FOR MODEL anon_model_8cf19d72e0f2af48bad1a20c63a82253 NOW.\n",
      "INFO:pystan:COMPILING THE C++ CODE FOR MODEL anon_model_8cf19d72e0f2af48bad1a20c63a82253 NOW.\n"
     ]
    }
   ],
   "source": [
    "# 先ずはシンプルな単回帰\n",
    "X = data['lang']\n",
    "Y = data['weight']\n",
    "\n",
    "stan_data = {'N': len(data), 'X': X, 'Y': Y}\n",
    "fit = pystan.stan(file='sample1.stan',data=stan_data, iter=3000, chains=3, thin=1)\n",
    "\n",
    "# コンパイルとサンプリングを分けて、時間を短くするために、下記の記法を取る\n",
    "\n",
    "st_d = pystan.StanModel(file='sample1.stan')\n",
    "fit = st_d.sampling(data=stan_data, iter=2000, chains=3, warmup = 500, thin=2)\n"
   ]
  },
  {
   "cell_type": "code",
   "execution_count": 80,
   "metadata": {},
   "outputs": [
    {
     "data": {
      "image/png": "[encoded data removed]",
      "text/plain": [
       "<matplotlib.figure.Figure at 0x1c18330470>"
      ]
     },
     "execution_count": 80,
     "metadata": {},
     "output_type": "execute_result"
    },
    {
     "data": {
      "image/png": "[encoded data removed]",
      "text/plain": [
       "<matplotlib.figure.Figure at 0x1c18330470>"
      ]
     },
     "metadata": {},
     "output_type": "display_data"
    }
   ],
   "source": [
    "fit\n",
    "\n",
    "fit.plot()"
   ]
  },
  {
   "cell_type": "code",
   "execution_count": 81,
   "metadata": {},
   "outputs": [
    {
     "data": {
      "text/plain": [
       "2250"
      ]
     },
     "execution_count": 81,
     "metadata": {},
     "output_type": "execute_result"
    }
   ],
   "source": [
    "samples = fit.extract(permuted=True)\n",
    "len(samples)\n",
    "samples\n",
    "len(samples['a'])"
   ]
  },
  {
   "cell_type": "code",
   "execution_count": 82,
   "metadata": {},
   "outputs": [
    {
     "data": {
      "text/plain": [
       "Text(0.5,1,'Pystan linear regression')"
      ]
     },
     "execution_count": 82,
     "metadata": {},
     "output_type": "execute_result"
    },
    {
     "data": {
      "image/png": "[encoded data removed]",
      "text/plain": [
       "<matplotlib.figure.Figure at 0x1c19f22208>"
      ]
     },
     "metadata": {},
     "output_type": "display_data"
    }
   ],
   "source": [
    "import seaborn as sns\n",
    "df = pd.DataFrame(samples)\n",
    "\n",
    "plt.plot(X,Y,\"o\")\n",
    "plt.plot(X,samples[\"b\"].mean() + X * samples[\"a\"].mean())\n",
    "plt.xlabel(\"X\")\n",
    "plt.ylabel(\"Y\")\n",
    "plt.title(\"Pystan linear regression\")\n"
   ]
  },
  {
   "cell_type": "code",
   "execution_count": 83,
   "metadata": {},
   "outputs": [
    {
     "data": {
      "text/plain": [
       "[<matplotlib.lines.Line2D at 0x1c18321780>]"
      ]
     },
     "execution_count": 83,
     "metadata": {},
     "output_type": "execute_result"
    },
    {
     "data": {
      "image/png": "[encoded data removed]",
      "text/plain": [
       "<matplotlib.figure.Figure at 0x1c18321588>"
      ]
     },
     "metadata": {},
     "output_type": "display_data"
    }
   ],
   "source": [
    "# 確認のためにlmも再掲\n",
    "plt.scatter(x, y)\n",
    "plt.plot(x, lm.predict(data.loc[:,'lang']))\n",
    "    # 結果は変わらない"
   ]
  },
  {
   "cell_type": "code",
   "execution_count": 107,
   "metadata": {},
   "outputs": [
    {
     "name": "stderr",
     "output_type": "stream",
     "text": [
      "INFO:pystan:COMPILING THE C++ CODE FOR MODEL anon_model_1815f1a53e4a635190cd39a5fb14c221 NOW.\n"
     ]
    }
   ],
   "source": [
    "# 続いてはシンプルなmlmと同じ重回帰\n",
    "Xlang = data['lang']\n",
    "Xage = data['age']\n",
    "SID = data['sex'] # sexを1以上にしているので、元データも M=1, F=2にしておく事\n",
    "Y = data['weight']\n",
    "N = len(data)\n",
    "S = 2\n",
    "\n",
    "stan_data = {'N': N, 'S':S, 'Xlang': Xlang, 'Xage': Xage, 'SID':SID, 'Y': Y}\n",
    "#fit = pystan.stan(file='sample2.stan',data=stan_data, iter=3000, chains=3, thin=1)\n",
    "\n",
    "# コンパイルとサンプリングを分けて、時間を短くするために、下記の記法を取る\n",
    "\n",
    "st_d = pystan.StanModel(file='sample2.stan')\n",
    "fit = st_d.sampling(data=stan_data, iter=1000, chains=3, warmup = 500, thin=2)\n",
    "\n"
   ]
  },
  {
   "cell_type": "code",
   "execution_count": 108,
   "metadata": {},
   "outputs": [
    {
     "data": {
      "text/plain": [
       "Inference for Stan model: anon_model_1815f1a53e4a635190cd39a5fb14c221.\n",
       "3 chains, each with iter=1000; warmup=500; thin=2; \n",
       "post-warmup draws per chain=250, total post-warmup draws=750.\n",
       "\n",
       "        mean se_mean     sd   2.5%    25%    50%    75%  97.5%  n_eff   Rhat\n",
       "a0     -0.31    0.29   0.49  -1.72  -0.66  -0.01   0.02   0.14      3    1.8\n",
       "b0      0.21    0.27   0.98  -3.02  -0.04   0.28   0.76   1.73     13   1.28\n",
       "c0      7.37    4.72  22.66 -30.81  -9.71   4.87   20.3  58.21     23   1.08\n",
       "a1[0]   0.33    0.29    0.5  -0.13 1.1e-3   0.03   0.67   1.74      3    1.8\n",
       "a1[1]   0.33    0.29   0.49  -0.13-3.6e-3   0.02   0.67   1.72      3    1.8\n",
       "b1[0]   0.08     0.3    1.0  -1.34  -0.52-2.0e-3   0.32   3.27     11    1.3\n",
       "b1[1]  -0.01    0.27   0.95  -1.66  -0.53  -0.03   0.21    3.2     12   1.29\n",
       "c1[0] -20.66   13.24  26.47 -92.32 -32.16 -14.79  -0.27   9.92      4   1.28\n",
       "c1[1]  -6.69    7.15  17.52 -50.05 -10.27  -0.18   2.73  16.24      6   1.26\n",
       "s_a     1.25    0.88   3.16 1.9e-3   0.02   0.21    1.2   9.26     13   1.09\n",
       "s_b     3.88    1.29  11.19   0.04   0.28   0.87    2.3  35.85     75   1.03\n",
       "s_c    91.26   52.63 383.18   0.18   3.08  22.15  69.81 660.75     53   1.04\n",
       "s_Y     6.12    0.11   0.89   4.55   5.46   6.11   6.73   7.92     61   1.04\n",
       "a[0]    0.02  1.0e-3 3.9e-3   0.01   0.02   0.02   0.02   0.03     14   1.15\n",
       "a[1]    0.01  1.2e-3 4.0e-3 4.0e-3 9.3e-3   0.01   0.02   0.02     12   1.22\n",
       "b[0]    0.28    0.05    0.2  -0.11   0.16   0.27    0.4   0.72     14   1.15\n",
       "b[1]     0.2    0.04   0.18  -0.17   0.07   0.21   0.33   0.54     18   1.13\n",
       "c[0]   -13.3    6.07  21.02 -59.82 -25.87 -11.96   0.48  26.82     12   1.19\n",
       "c[1]    0.67    5.52  18.32 -31.37 -12.79  -1.09  14.34  36.27     11   1.24\n",
       "lp__  -70.18    2.16   4.32 -78.76 -73.03 -70.36 -67.17 -61.81      4   1.29\n",
       "\n",
       "Samples were drawn using NUTS at Mon May  7 06:20:53 2018.\n",
       "For each parameter, n_eff is a crude measure of effective sample size,\n",
       "and Rhat is the potential scale reduction factor on split chains (at \n",
       "convergence, Rhat=1)."
      ]
     },
     "execution_count": 108,
     "metadata": {},
     "output_type": "execute_result"
    }
   ],
   "source": [
    "fit"
   ]
  },
  {
   "cell_type": "code",
   "execution_count": 109,
   "metadata": {},
   "outputs": [],
   "source": [
    "# 収束していない。おそらく30個では一階層のMCMCすらデータ数が足りないのだろう。"
   ]
  }
 ],
 "metadata": {
  "kernelspec": {
   "display_name": "Python [conda env:anaconda3-4.2.0]",
   "language": "python",
   "name": "conda-env-anaconda3-4.2.0-py"
  },
  "language_info": {
   "codemirror_mode": {
    "name": "ipython",
    "version": 3
   },
   "file_extension": ".py",
   "mimetype": "text/x-python",
   "name": "python",
   "nbconvert_exporter": "python",
   "pygments_lexer": "ipython3",
   "version": "3.5.4"
  }
 },
 "nbformat": 4,
 "nbformat_minor": 2
}
